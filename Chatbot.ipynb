{
 "cells": [
  {
   "cell_type": "code",
   "execution_count": 1,
   "id": "9dafb8fd",
   "metadata": {},
   "outputs": [],
   "source": [
    "import numpy as np\n",
    "import nltk\n",
    "import string\n",
    "import random"
   ]
  },
  {
   "cell_type": "markdown",
   "id": "59e9213f",
   "metadata": {},
   "source": [
    "Importing and reading the corpus"
   ]
  },
  {
   "cell_type": "code",
   "execution_count": 2,
   "id": "bb82e900",
   "metadata": {},
   "outputs": [],
   "source": [
    "f = open('text.txt',errors='ignore')\n",
    "raw_doc = f.read()\n",
    "raw_doc = raw_doc.lower()\n",
    "# nltk.download('punkt') first time only\n",
    "# nltk.download('wordnet') first time only\n",
    "sent_tokens = nltk.sent_tokenize(raw_doc)\n",
    "word_tokens = nltk.word_tokenize(raw_doc)"
   ]
  },
  {
   "cell_type": "markdown",
   "id": "3d540132",
   "metadata": {},
   "source": [
    "Example of sentance tokens"
   ]
  },
  {
   "cell_type": "code",
   "execution_count": 3,
   "id": "a7f2e157",
   "metadata": {},
   "outputs": [
    {
     "data": {
      "text/plain": [
       "['arithmetic operations is a branch of mathematics, that involves the study of numbers, operation of numbers that are useful in all the other branches of mathematics.',\n",
       " 'it basically comprises operations such as addition, subtraction, multiplication and division.']"
      ]
     },
     "execution_count": 3,
     "metadata": {},
     "output_type": "execute_result"
    }
   ],
   "source": [
    "sent_tokens[:2]"
   ]
  },
  {
   "cell_type": "markdown",
   "id": "f51f0254",
   "metadata": {},
   "source": [
    "Example of word tokens"
   ]
  },
  {
   "cell_type": "code",
   "execution_count": 4,
   "id": "6ba17784",
   "metadata": {},
   "outputs": [
    {
     "data": {
      "text/plain": [
       "['arithmetic', 'operations']"
      ]
     },
     "execution_count": 4,
     "metadata": {},
     "output_type": "execute_result"
    }
   ],
   "source": [
    "word_tokens[:2]"
   ]
  },
  {
   "cell_type": "markdown",
   "id": "875dd475",
   "metadata": {},
   "source": [
    "Text preprocessing "
   ]
  },
  {
   "cell_type": "code",
   "execution_count": 5,
   "id": "dadd7bc4",
   "metadata": {},
   "outputs": [],
   "source": [
    "lemmer = nltk.stem.WordNetLemmatizer()\n",
    "#WordNet is a semantically-oriented dictionary of english included in NLTK\n",
    "def LemTokens(tokens):\n",
    "    return [lemmer.lemmatize(token) for token in tokens]\n",
    "remove_punct_dict = dict((ord(punct), None) for punct in string.punctuation)\n",
    "def LemNormalize(text):\n",
    "    return LemTokens(nltk.word_tokenize(text.lower().translate(remove_punct_dict)))"
   ]
  },
  {
   "cell_type": "markdown",
   "id": "01bc28f5",
   "metadata": {},
   "source": [
    "Defining the greeting function"
   ]
  },
  {
   "cell_type": "code",
   "execution_count": 6,
   "id": "05b7f429",
   "metadata": {},
   "outputs": [],
   "source": [
    "GREET_INPUT = ('hello','hi','greetings','sup','hey')\n",
    "GREET_RESPONSES = ['hi','hey','*nods*','hi there','hello','hello']\n",
    "def greet(sentence):\n",
    "    \n",
    "    for word in sentence.split():\n",
    "        if word.lower() in GREET_INPUT:\n",
    "            return random.choice(GREET_RESPONSES)"
   ]
  },
  {
   "cell_type": "markdown",
   "id": "2e4871bd",
   "metadata": {},
   "source": [
    "Response generation"
   ]
  },
  {
   "cell_type": "code",
   "execution_count": 8,
   "id": "2b4801cf",
   "metadata": {},
   "outputs": [],
   "source": [
    "from sklearn.feature_extraction.text import TfidfVectorizer\n",
    "from sklearn.metrics.pairwise import cosine_similarity"
   ]
  },
  {
   "cell_type": "code",
   "execution_count": 11,
   "id": "72f187ab",
   "metadata": {},
   "outputs": [],
   "source": [
    "def response(user_response):\n",
    "    robo1_response = ''\n",
    "    TfidfVec = TfidfVectorizer(tokenizer=LemNormalize, stop_words = 'english')\n",
    "    tfidf = TfidfVec.fit_transform(sent_tokens)\n",
    "    vals = cosine_similarity(tfidf[-1],tfidf)\n",
    "    idx = vals.argsort()[0][-2]\n",
    "    flat = vals.flatten()\n",
    "    flat.sort()\n",
    "    req_tfidf = flat[-2]\n",
    "    if(req_tfidf == 0):\n",
    "        robo1_response = robo1_response+ 'I am sorry :( I didn\\'t understood you'\n",
    "        return robo1_response\n",
    "    else:\n",
    "        robo1_response = robo1_response + sent_tokens[idx]\n",
    "        return robo1_response"
   ]
  },
  {
   "cell_type": "markdown",
   "id": "bf2ea08d",
   "metadata": {},
   "source": [
    "Defining conversation start/end protocols"
   ]
  },
  {
   "cell_type": "code",
   "execution_count": 12,
   "id": "1b436a03",
   "metadata": {},
   "outputs": [
    {
     "name": "stdout",
     "output_type": "stream",
     "text": [
      "BOT:My name is chatru. Let's talk! And If you want to exit anytime, just type bye.\n",
      "hi\n",
      "BOT: *nods*\n",
      "addition\n"
     ]
    },
    {
     "name": "stderr",
     "output_type": "stream",
     "text": [
      "C:\\ProgramData\\Anaconda3\\lib\\site-packages\\sklearn\\feature_extraction\\text.py:388: UserWarning: Your stop_words may be inconsistent with your preprocessing. Tokenizing the stop words generated tokens ['ha', 'le', 'u', 'wa'] not in stop_words.\n",
      "  warnings.warn('Your stop_words may be inconsistent with '\n"
     ]
    },
    {
     "name": "stdout",
     "output_type": "stream",
     "text": [
      "BOT: addition\n",
      "arithamatic\n",
      "BOT: I am sorry :( I didn't understood you\n",
      "subtraction\n",
      "BOT: addition and subtraction are inverse operations of each other.\n",
      "add\n",
      "BOT: solved examples\n",
      "q.1: add 23 and 40 and then subtract 20 from the sum.\n",
      "bye\n",
      "BOT: Goodbye! Take care ;)\n"
     ]
    }
   ],
   "source": [
    "flag = True\n",
    "print('BOT:My name is chatru. Let\\'s talk! And If you want to exit anytime, just type bye.')\n",
    "while(flag==True):\n",
    "    user_response = input()\n",
    "    user_response = user_response.lower()\n",
    "    if(user_response != 'bye'):\n",
    "        if(user_response == 'thanks' or user_response == 'thank you'):\n",
    "            flag = False\n",
    "            print('BOT: You are welcome :)')\n",
    "        else:\n",
    "            if(greet(user_response)!=None):\n",
    "                print('BOT: '+greet(user_response))\n",
    "            else:\n",
    "                sent_tokens.append(user_response)\n",
    "                word_tokens = word_tokens+nltk.word_tokenize(user_response)\n",
    "                final_words = list(set(word_tokens))\n",
    "                print(\"BOT: \",end='')\n",
    "                print(response(user_response))\n",
    "                sent_tokens.remove(user_response)\n",
    "    else:\n",
    "        flag = False\n",
    "        print('BOT: Goodbye! Take care ;)')"
   ]
  },
  {
   "cell_type": "code",
   "execution_count": null,
   "id": "9fe353b2",
   "metadata": {},
   "outputs": [],
   "source": []
  },
  {
   "cell_type": "code",
   "execution_count": null,
   "id": "dd09ec3f",
   "metadata": {},
   "outputs": [],
   "source": []
  }
 ],
 "metadata": {
  "kernelspec": {
   "display_name": "Python 3",
   "language": "python",
   "name": "python3"
  },
  "language_info": {
   "codemirror_mode": {
    "name": "ipython",
    "version": 3
   },
   "file_extension": ".py",
   "mimetype": "text/x-python",
   "name": "python",
   "nbconvert_exporter": "python",
   "pygments_lexer": "ipython3",
   "version": "3.8.8"
  }
 },
 "nbformat": 4,
 "nbformat_minor": 5
}
